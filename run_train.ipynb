{
  "nbformat": 4,
  "nbformat_minor": 0,
  "metadata": {
    "colab": {
      "provenance": [],
      "gpuType": "T4"
    },
    "kernelspec": {
      "name": "python3",
      "display_name": "Python 3"
    },
    "language_info": {
      "name": "python"
    },
    "accelerator": "GPU",
    "gpuClass": "standard"
  },
  "cells": [
    {
      "cell_type": "markdown",
      "source": [
        "PROJECT: Task 2: Toxic Span Detection (Sequence Labeling)"
      ],
      "metadata": {
        "id": "Uc1Vhkm-ei_p"
      }
    },
    {
      "cell_type": "markdown",
      "source": [
        "Name: Sai Chaitanya Pachipulusu\n",
        "Stevens ID: 20011257"
      ],
      "metadata": {
        "id": "puYF8HJwejDI"
      }
    },
    {
      "cell_type": "markdown",
      "source": [
        "### Import libraries:"
      ],
      "metadata": {
        "id": "OBxj4leUepiT"
      }
    },
    {
      "cell_type": "code",
      "source": [
        "!pip install -r requirements.txt"
      ],
      "metadata": {
        "id": "Ye_6jfEy0KWl",
        "colab": {
          "base_uri": "https://localhost:8080/"
        },
        "outputId": "bcbcf4af-df92-4ad1-acab-d5f4c4604bb6"
      },
      "execution_count": null,
      "outputs": [
        {
          "output_type": "stream",
          "name": "stdout",
          "text": [
            "Looking in indexes: https://pypi.org/simple, https://us-python.pkg.dev/colab-wheels/public/simple/\n",
            "Requirement already satisfied: jupyterlab in /usr/local/lib/python3.10/dist-packages (from -r requirements.txt (line 1)) (3.6.3)\n",
            "Requirement already satisfied: matplotlib in /usr/local/lib/python3.10/dist-packages (from -r requirements.txt (line 2)) (3.7.1)\n",
            "Requirement already satisfied: numpy in /usr/local/lib/python3.10/dist-packages (from -r requirements.txt (line 3)) (1.22.4)\n",
            "Requirement already satisfied: scikit-learn in /usr/local/lib/python3.10/dist-packages (from -r requirements.txt (line 4)) (1.2.2)\n",
            "Requirement already satisfied: tensorflow in /usr/local/lib/python3.10/dist-packages (from -r requirements.txt (line 5)) (2.12.0)\n",
            "Requirement already satisfied: tensorflow_addons in /usr/local/lib/python3.10/dist-packages (from -r requirements.txt (line 6)) (0.20.0)\n",
            "Requirement already satisfied: transformers in /usr/local/lib/python3.10/dist-packages (from -r requirements.txt (line 7)) (4.28.1)\n",
            "Requirement already satisfied: torchsummary in /usr/local/lib/python3.10/dist-packages (from -r requirements.txt (line 8)) (1.5.1)\n",
            "Requirement already satisfied: jupyter-core in /usr/local/lib/python3.10/dist-packages (from jupyterlab->-r requirements.txt (line 1)) (5.3.0)\n",
            "Requirement already satisfied: nbclassic in /usr/local/lib/python3.10/dist-packages (from jupyterlab->-r requirements.txt (line 1)) (0.5.6)\n",
            "Requirement already satisfied: jupyter-server-ydoc~=0.8.0 in /usr/local/lib/python3.10/dist-packages (from jupyterlab->-r requirements.txt (line 1)) (0.8.0)\n",
            "Requirement already satisfied: jinja2>=2.1 in /usr/local/lib/python3.10/dist-packages (from jupyterlab->-r requirements.txt (line 1)) (3.1.2)\n",
            "Requirement already satisfied: jupyter-server<3,>=1.16.0 in /usr/local/lib/python3.10/dist-packages (from jupyterlab->-r requirements.txt (line 1)) (1.24.0)\n",
            "Requirement already satisfied: notebook<7 in /usr/local/lib/python3.10/dist-packages (from jupyterlab->-r requirements.txt (line 1)) (6.4.8)\n",
            "Requirement already satisfied: tornado>=6.1.0 in /usr/local/lib/python3.10/dist-packages (from jupyterlab->-r requirements.txt (line 1)) (6.2)\n",
            "Requirement already satisfied: tomli in /usr/local/lib/python3.10/dist-packages (from jupyterlab->-r requirements.txt (line 1)) (2.0.1)\n",
            "Requirement already satisfied: packaging in /usr/local/lib/python3.10/dist-packages (from jupyterlab->-r requirements.txt (line 1)) (23.1)\n",
            "Requirement already satisfied: jupyterlab-server~=2.19 in /usr/local/lib/python3.10/dist-packages (from jupyterlab->-r requirements.txt (line 1)) (2.22.1)\n",
            "Requirement already satisfied: ipython in /usr/local/lib/python3.10/dist-packages (from jupyterlab->-r requirements.txt (line 1)) (7.34.0)\n",
            "Requirement already satisfied: jupyter-ydoc~=0.2.3 in /usr/local/lib/python3.10/dist-packages (from jupyterlab->-r requirements.txt (line 1)) (0.2.4)\n",
            "Requirement already satisfied: fonttools>=4.22.0 in /usr/local/lib/python3.10/dist-packages (from matplotlib->-r requirements.txt (line 2)) (4.39.3)\n",
            "Requirement already satisfied: pyparsing>=2.3.1 in /usr/local/lib/python3.10/dist-packages (from matplotlib->-r requirements.txt (line 2)) (3.0.9)\n",
            "Requirement already satisfied: pillow>=6.2.0 in /usr/local/lib/python3.10/dist-packages (from matplotlib->-r requirements.txt (line 2)) (8.4.0)\n",
            "Requirement already satisfied: contourpy>=1.0.1 in /usr/local/lib/python3.10/dist-packages (from matplotlib->-r requirements.txt (line 2)) (1.0.7)\n",
            "Requirement already satisfied: python-dateutil>=2.7 in /usr/local/lib/python3.10/dist-packages (from matplotlib->-r requirements.txt (line 2)) (2.8.2)\n",
            "Requirement already satisfied: cycler>=0.10 in /usr/local/lib/python3.10/dist-packages (from matplotlib->-r requirements.txt (line 2)) (0.11.0)\n",
            "Requirement already satisfied: kiwisolver>=1.0.1 in /usr/local/lib/python3.10/dist-packages (from matplotlib->-r requirements.txt (line 2)) (1.4.4)\n",
            "Requirement already satisfied: scipy>=1.3.2 in /usr/local/lib/python3.10/dist-packages (from scikit-learn->-r requirements.txt (line 4)) (1.10.1)\n",
            "Requirement already satisfied: joblib>=1.1.1 in /usr/local/lib/python3.10/dist-packages (from scikit-learn->-r requirements.txt (line 4)) (1.2.0)\n",
            "Requirement already satisfied: threadpoolctl>=2.0.0 in /usr/local/lib/python3.10/dist-packages (from scikit-learn->-r requirements.txt (line 4)) (3.1.0)\n",
            "Requirement already satisfied: tensorflow-estimator<2.13,>=2.12.0 in /usr/local/lib/python3.10/dist-packages (from tensorflow->-r requirements.txt (line 5)) (2.12.0)\n",
            "Requirement already satisfied: protobuf!=4.21.0,!=4.21.1,!=4.21.2,!=4.21.3,!=4.21.4,!=4.21.5,<5.0.0dev,>=3.20.3 in /usr/local/lib/python3.10/dist-packages (from tensorflow->-r requirements.txt (line 5)) (3.20.3)\n",
            "Requirement already satisfied: flatbuffers>=2.0 in /usr/local/lib/python3.10/dist-packages (from tensorflow->-r requirements.txt (line 5)) (23.3.3)\n",
            "Requirement already satisfied: grpcio<2.0,>=1.24.3 in /usr/local/lib/python3.10/dist-packages (from tensorflow->-r requirements.txt (line 5)) (1.54.0)\n",
            "Requirement already satisfied: astunparse>=1.6.0 in /usr/local/lib/python3.10/dist-packages (from tensorflow->-r requirements.txt (line 5)) (1.6.3)\n",
            "Requirement already satisfied: opt-einsum>=2.3.2 in /usr/local/lib/python3.10/dist-packages (from tensorflow->-r requirements.txt (line 5)) (3.3.0)\n",
            "Requirement already satisfied: gast<=0.4.0,>=0.2.1 in /usr/local/lib/python3.10/dist-packages (from tensorflow->-r requirements.txt (line 5)) (0.4.0)\n",
            "Requirement already satisfied: wrapt<1.15,>=1.11.0 in /usr/local/lib/python3.10/dist-packages (from tensorflow->-r requirements.txt (line 5)) (1.14.1)\n",
            "Requirement already satisfied: typing-extensions>=3.6.6 in /usr/local/lib/python3.10/dist-packages (from tensorflow->-r requirements.txt (line 5)) (4.5.0)\n",
            "Requirement already satisfied: keras<2.13,>=2.12.0 in /usr/local/lib/python3.10/dist-packages (from tensorflow->-r requirements.txt (line 5)) (2.12.0)\n",
            "Requirement already satisfied: termcolor>=1.1.0 in /usr/local/lib/python3.10/dist-packages (from tensorflow->-r requirements.txt (line 5)) (2.3.0)\n",
            "Requirement already satisfied: tensorboard<2.13,>=2.12 in /usr/local/lib/python3.10/dist-packages (from tensorflow->-r requirements.txt (line 5)) (2.12.2)\n",
            "Requirement already satisfied: libclang>=13.0.0 in /usr/local/lib/python3.10/dist-packages (from tensorflow->-r requirements.txt (line 5)) (16.0.0)\n",
            "Requirement already satisfied: setuptools in /usr/local/lib/python3.10/dist-packages (from tensorflow->-r requirements.txt (line 5)) (67.7.2)\n",
            "Requirement already satisfied: absl-py>=1.0.0 in /usr/local/lib/python3.10/dist-packages (from tensorflow->-r requirements.txt (line 5)) (1.4.0)\n",
            "Requirement already satisfied: six>=1.12.0 in /usr/local/lib/python3.10/dist-packages (from tensorflow->-r requirements.txt (line 5)) (1.16.0)\n",
            "Requirement already satisfied: jax>=0.3.15 in /usr/local/lib/python3.10/dist-packages (from tensorflow->-r requirements.txt (line 5)) (0.4.8)\n",
            "Requirement already satisfied: tensorflow-io-gcs-filesystem>=0.23.1 in /usr/local/lib/python3.10/dist-packages (from tensorflow->-r requirements.txt (line 5)) (0.32.0)\n",
            "Requirement already satisfied: h5py>=2.9.0 in /usr/local/lib/python3.10/dist-packages (from tensorflow->-r requirements.txt (line 5)) (3.8.0)\n",
            "Requirement already satisfied: google-pasta>=0.1.1 in /usr/local/lib/python3.10/dist-packages (from tensorflow->-r requirements.txt (line 5)) (0.2.0)\n",
            "Requirement already satisfied: typeguard<3.0.0,>=2.7 in /usr/local/lib/python3.10/dist-packages (from tensorflow_addons->-r requirements.txt (line 6)) (2.13.3)\n",
            "Requirement already satisfied: pyyaml>=5.1 in /usr/local/lib/python3.10/dist-packages (from transformers->-r requirements.txt (line 7)) (6.0)\n",
            "Requirement already satisfied: filelock in /usr/local/lib/python3.10/dist-packages (from transformers->-r requirements.txt (line 7)) (3.12.0)\n",
            "Requirement already satisfied: huggingface-hub<1.0,>=0.11.0 in /usr/local/lib/python3.10/dist-packages (from transformers->-r requirements.txt (line 7)) (0.14.1)\n",
            "Requirement already satisfied: regex!=2019.12.17 in /usr/local/lib/python3.10/dist-packages (from transformers->-r requirements.txt (line 7)) (2022.10.31)\n",
            "Requirement already satisfied: tqdm>=4.27 in /usr/local/lib/python3.10/dist-packages (from transformers->-r requirements.txt (line 7)) (4.65.0)\n",
            "Requirement already satisfied: tokenizers!=0.11.3,<0.14,>=0.11.1 in /usr/local/lib/python3.10/dist-packages (from transformers->-r requirements.txt (line 7)) (0.13.3)\n",
            "Requirement already satisfied: requests in /usr/local/lib/python3.10/dist-packages (from transformers->-r requirements.txt (line 7)) (2.29.0)\n",
            "Requirement already satisfied: wheel<1.0,>=0.23.0 in /usr/local/lib/python3.10/dist-packages (from astunparse>=1.6.0->tensorflow->-r requirements.txt (line 5)) (0.40.0)\n",
            "Requirement already satisfied: fsspec in /usr/local/lib/python3.10/dist-packages (from huggingface-hub<1.0,>=0.11.0->transformers->-r requirements.txt (line 7)) (2023.4.0)\n",
            "Requirement already satisfied: ml-dtypes>=0.0.3 in /usr/local/lib/python3.10/dist-packages (from jax>=0.3.15->tensorflow->-r requirements.txt (line 5)) (0.1.0)\n",
            "Requirement already satisfied: MarkupSafe>=2.0 in /usr/local/lib/python3.10/dist-packages (from jinja2>=2.1->jupyterlab->-r requirements.txt (line 1)) (2.1.2)\n",
            "Requirement already satisfied: argon2-cffi in /usr/local/lib/python3.10/dist-packages (from jupyter-server<3,>=1.16.0->jupyterlab->-r requirements.txt (line 1)) (21.3.0)\n",
            "Requirement already satisfied: websocket-client in /usr/local/lib/python3.10/dist-packages (from jupyter-server<3,>=1.16.0->jupyterlab->-r requirements.txt (line 1)) (1.5.1)\n",
            "Requirement already satisfied: traitlets>=5.1 in /usr/local/lib/python3.10/dist-packages (from jupyter-server<3,>=1.16.0->jupyterlab->-r requirements.txt (line 1)) (5.7.1)\n",
            "Requirement already satisfied: prometheus-client in /usr/local/lib/python3.10/dist-packages (from jupyter-server<3,>=1.16.0->jupyterlab->-r requirements.txt (line 1)) (0.16.0)\n",
            "Requirement already satisfied: pyzmq>=17 in /usr/local/lib/python3.10/dist-packages (from jupyter-server<3,>=1.16.0->jupyterlab->-r requirements.txt (line 1)) (23.2.1)\n",
            "Requirement already satisfied: Send2Trash in /usr/local/lib/python3.10/dist-packages (from jupyter-server<3,>=1.16.0->jupyterlab->-r requirements.txt (line 1)) (1.8.0)\n",
            "Requirement already satisfied: anyio<4,>=3.1.0 in /usr/local/lib/python3.10/dist-packages (from jupyter-server<3,>=1.16.0->jupyterlab->-r requirements.txt (line 1)) (3.6.2)\n",
            "Requirement already satisfied: jupyter-client>=6.1.12 in /usr/local/lib/python3.10/dist-packages (from jupyter-server<3,>=1.16.0->jupyterlab->-r requirements.txt (line 1)) (6.1.12)\n",
            "Requirement already satisfied: nbformat>=5.2.0 in /usr/local/lib/python3.10/dist-packages (from jupyter-server<3,>=1.16.0->jupyterlab->-r requirements.txt (line 1)) (5.8.0)\n",
            "Requirement already satisfied: terminado>=0.8.3 in /usr/local/lib/python3.10/dist-packages (from jupyter-server<3,>=1.16.0->jupyterlab->-r requirements.txt (line 1)) (0.17.1)\n",
            "Requirement already satisfied: nbconvert>=6.4.4 in /usr/local/lib/python3.10/dist-packages (from jupyter-server<3,>=1.16.0->jupyterlab->-r requirements.txt (line 1)) (6.5.4)\n",
            "Requirement already satisfied: platformdirs>=2.5 in /usr/local/lib/python3.10/dist-packages (from jupyter-core->jupyterlab->-r requirements.txt (line 1)) (3.3.0)\n",
            "Requirement already satisfied: jupyter-server-fileid<1,>=0.6.0 in /usr/local/lib/python3.10/dist-packages (from jupyter-server-ydoc~=0.8.0->jupyterlab->-r requirements.txt (line 1)) (0.9.0)\n",
            "Requirement already satisfied: ypy-websocket<0.9.0,>=0.8.2 in /usr/local/lib/python3.10/dist-packages (from jupyter-server-ydoc~=0.8.0->jupyterlab->-r requirements.txt (line 1)) (0.8.2)\n",
            "Requirement already satisfied: y-py<0.6.0,>=0.5.3 in /usr/local/lib/python3.10/dist-packages (from jupyter-ydoc~=0.2.3->jupyterlab->-r requirements.txt (line 1)) (0.5.9)\n",
            "Requirement already satisfied: json5>=0.9.0 in /usr/local/lib/python3.10/dist-packages (from jupyterlab-server~=2.19->jupyterlab->-r requirements.txt (line 1)) (0.9.11)\n",
            "Requirement already satisfied: babel>=2.10 in /usr/local/lib/python3.10/dist-packages (from jupyterlab-server~=2.19->jupyterlab->-r requirements.txt (line 1)) (2.12.1)\n",
            "Requirement already satisfied: jsonschema>=4.17.3 in /usr/local/lib/python3.10/dist-packages (from jupyterlab-server~=2.19->jupyterlab->-r requirements.txt (line 1)) (4.17.3)\n",
            "Requirement already satisfied: nest-asyncio>=1.5 in /usr/local/lib/python3.10/dist-packages (from notebook<7->jupyterlab->-r requirements.txt (line 1)) (1.5.6)\n",
            "Requirement already satisfied: ipykernel in /usr/local/lib/python3.10/dist-packages (from notebook<7->jupyterlab->-r requirements.txt (line 1)) (5.5.6)\n",
            "Requirement already satisfied: ipython-genutils in /usr/local/lib/python3.10/dist-packages (from notebook<7->jupyterlab->-r requirements.txt (line 1)) (0.2.0)\n",
            "Requirement already satisfied: idna<4,>=2.5 in /usr/local/lib/python3.10/dist-packages (from requests->transformers->-r requirements.txt (line 7)) (3.4)\n",
            "Requirement already satisfied: urllib3<1.27,>=1.21.1 in /usr/local/lib/python3.10/dist-packages (from requests->transformers->-r requirements.txt (line 7)) (1.26.15)\n",
            "Requirement already satisfied: charset-normalizer<4,>=2 in /usr/local/lib/python3.10/dist-packages (from requests->transformers->-r requirements.txt (line 7)) (2.0.12)\n",
            "Requirement already satisfied: certifi>=2017.4.17 in /usr/local/lib/python3.10/dist-packages (from requests->transformers->-r requirements.txt (line 7)) (2022.12.7)\n",
            "Requirement already satisfied: google-auth<3,>=1.6.3 in /usr/local/lib/python3.10/dist-packages (from tensorboard<2.13,>=2.12->tensorflow->-r requirements.txt (line 5)) (2.17.3)\n",
            "Requirement already satisfied: tensorboard-data-server<0.8.0,>=0.7.0 in /usr/local/lib/python3.10/dist-packages (from tensorboard<2.13,>=2.12->tensorflow->-r requirements.txt (line 5)) (0.7.0)\n",
            "Requirement already satisfied: markdown>=2.6.8 in /usr/local/lib/python3.10/dist-packages (from tensorboard<2.13,>=2.12->tensorflow->-r requirements.txt (line 5)) (3.4.3)\n",
            "Requirement already satisfied: werkzeug>=1.0.1 in /usr/local/lib/python3.10/dist-packages (from tensorboard<2.13,>=2.12->tensorflow->-r requirements.txt (line 5)) (2.3.0)\n",
            "Requirement already satisfied: tensorboard-plugin-wit>=1.6.0 in /usr/local/lib/python3.10/dist-packages (from tensorboard<2.13,>=2.12->tensorflow->-r requirements.txt (line 5)) (1.8.1)\n",
            "Requirement already satisfied: google-auth-oauthlib<1.1,>=0.5 in /usr/local/lib/python3.10/dist-packages (from tensorboard<2.13,>=2.12->tensorflow->-r requirements.txt (line 5)) (1.0.0)\n",
            "Requirement already satisfied: backcall in /usr/local/lib/python3.10/dist-packages (from ipython->jupyterlab->-r requirements.txt (line 1)) (0.2.0)\n",
            "Requirement already satisfied: pickleshare in /usr/local/lib/python3.10/dist-packages (from ipython->jupyterlab->-r requirements.txt (line 1)) (0.7.5)\n",
            "Requirement already satisfied: pygments in /usr/local/lib/python3.10/dist-packages (from ipython->jupyterlab->-r requirements.txt (line 1)) (2.14.0)\n",
            "Requirement already satisfied: matplotlib-inline in /usr/local/lib/python3.10/dist-packages (from ipython->jupyterlab->-r requirements.txt (line 1)) (0.1.6)\n",
            "Requirement already satisfied: decorator in /usr/local/lib/python3.10/dist-packages (from ipython->jupyterlab->-r requirements.txt (line 1)) (4.4.2)\n",
            "Requirement already satisfied: prompt-toolkit!=3.0.0,!=3.0.1,<3.1.0,>=2.0.0 in /usr/local/lib/python3.10/dist-packages (from ipython->jupyterlab->-r requirements.txt (line 1)) (3.0.38)\n",
            "Requirement already satisfied: jedi>=0.16 in /usr/local/lib/python3.10/dist-packages (from ipython->jupyterlab->-r requirements.txt (line 1)) (0.18.2)\n",
            "Requirement already satisfied: pexpect>4.3 in /usr/local/lib/python3.10/dist-packages (from ipython->jupyterlab->-r requirements.txt (line 1)) (4.8.0)\n",
            "Requirement already satisfied: notebook-shim>=0.2.3 in /usr/local/lib/python3.10/dist-packages (from nbclassic->jupyterlab->-r requirements.txt (line 1)) (0.2.3)\n",
            "Requirement already satisfied: sniffio>=1.1 in /usr/local/lib/python3.10/dist-packages (from anyio<4,>=3.1.0->jupyter-server<3,>=1.16.0->jupyterlab->-r requirements.txt (line 1)) (1.3.0)\n",
            "Requirement already satisfied: rsa<5,>=3.1.4 in /usr/local/lib/python3.10/dist-packages (from google-auth<3,>=1.6.3->tensorboard<2.13,>=2.12->tensorflow->-r requirements.txt (line 5)) (4.9)\n",
            "Requirement already satisfied: pyasn1-modules>=0.2.1 in /usr/local/lib/python3.10/dist-packages (from google-auth<3,>=1.6.3->tensorboard<2.13,>=2.12->tensorflow->-r requirements.txt (line 5)) (0.3.0)\n",
            "Requirement already satisfied: cachetools<6.0,>=2.0.0 in /usr/local/lib/python3.10/dist-packages (from google-auth<3,>=1.6.3->tensorboard<2.13,>=2.12->tensorflow->-r requirements.txt (line 5)) (5.3.0)\n",
            "Requirement already satisfied: requests-oauthlib>=0.7.0 in /usr/local/lib/python3.10/dist-packages (from google-auth-oauthlib<1.1,>=0.5->tensorboard<2.13,>=2.12->tensorflow->-r requirements.txt (line 5)) (1.3.1)\n",
            "Requirement already satisfied: parso<0.9.0,>=0.8.0 in /usr/local/lib/python3.10/dist-packages (from jedi>=0.16->ipython->jupyterlab->-r requirements.txt (line 1)) (0.8.3)\n",
            "Requirement already satisfied: attrs>=17.4.0 in /usr/local/lib/python3.10/dist-packages (from jsonschema>=4.17.3->jupyterlab-server~=2.19->jupyterlab->-r requirements.txt (line 1)) (23.1.0)\n",
            "Requirement already satisfied: pyrsistent!=0.17.0,!=0.17.1,!=0.17.2,>=0.14.0 in /usr/local/lib/python3.10/dist-packages (from jsonschema>=4.17.3->jupyterlab-server~=2.19->jupyterlab->-r requirements.txt (line 1)) (0.19.3)\n",
            "Requirement already satisfied: jupyter-events>=0.5.0 in /usr/local/lib/python3.10/dist-packages (from jupyter-server-fileid<1,>=0.6.0->jupyter-server-ydoc~=0.8.0->jupyterlab->-r requirements.txt (line 1)) (0.6.3)\n",
            "Requirement already satisfied: pandocfilters>=1.4.1 in /usr/local/lib/python3.10/dist-packages (from nbconvert>=6.4.4->jupyter-server<3,>=1.16.0->jupyterlab->-r requirements.txt (line 1)) (1.5.0)\n",
            "Requirement already satisfied: entrypoints>=0.2.2 in /usr/local/lib/python3.10/dist-packages (from nbconvert>=6.4.4->jupyter-server<3,>=1.16.0->jupyterlab->-r requirements.txt (line 1)) (0.4)\n",
            "Requirement already satisfied: jupyterlab-pygments in /usr/local/lib/python3.10/dist-packages (from nbconvert>=6.4.4->jupyter-server<3,>=1.16.0->jupyterlab->-r requirements.txt (line 1)) (0.2.2)\n",
            "Requirement already satisfied: mistune<2,>=0.8.1 in /usr/local/lib/python3.10/dist-packages (from nbconvert>=6.4.4->jupyter-server<3,>=1.16.0->jupyterlab->-r requirements.txt (line 1)) (0.8.4)\n",
            "Requirement already satisfied: nbclient>=0.5.0 in /usr/local/lib/python3.10/dist-packages (from nbconvert>=6.4.4->jupyter-server<3,>=1.16.0->jupyterlab->-r requirements.txt (line 1)) (0.7.4)\n",
            "Requirement already satisfied: tinycss2 in /usr/local/lib/python3.10/dist-packages (from nbconvert>=6.4.4->jupyter-server<3,>=1.16.0->jupyterlab->-r requirements.txt (line 1)) (1.2.1)\n",
            "Requirement already satisfied: defusedxml in /usr/local/lib/python3.10/dist-packages (from nbconvert>=6.4.4->jupyter-server<3,>=1.16.0->jupyterlab->-r requirements.txt (line 1)) (0.7.1)\n",
            "Requirement already satisfied: lxml in /usr/local/lib/python3.10/dist-packages (from nbconvert>=6.4.4->jupyter-server<3,>=1.16.0->jupyterlab->-r requirements.txt (line 1)) (4.9.2)\n",
            "Requirement already satisfied: bleach in /usr/local/lib/python3.10/dist-packages (from nbconvert>=6.4.4->jupyter-server<3,>=1.16.0->jupyterlab->-r requirements.txt (line 1)) (6.0.0)\n",
            "Requirement already satisfied: beautifulsoup4 in /usr/local/lib/python3.10/dist-packages (from nbconvert>=6.4.4->jupyter-server<3,>=1.16.0->jupyterlab->-r requirements.txt (line 1)) (4.11.2)\n",
            "Requirement already satisfied: fastjsonschema in /usr/local/lib/python3.10/dist-packages (from nbformat>=5.2.0->jupyter-server<3,>=1.16.0->jupyterlab->-r requirements.txt (line 1)) (2.16.3)\n",
            "Requirement already satisfied: ptyprocess>=0.5 in /usr/local/lib/python3.10/dist-packages (from pexpect>4.3->ipython->jupyterlab->-r requirements.txt (line 1)) (0.7.0)\n",
            "Requirement already satisfied: wcwidth in /usr/local/lib/python3.10/dist-packages (from prompt-toolkit!=3.0.0,!=3.0.1,<3.1.0,>=2.0.0->ipython->jupyterlab->-r requirements.txt (line 1)) (0.2.6)\n",
            "Requirement already satisfied: aiofiles<23,>=22.1.0 in /usr/local/lib/python3.10/dist-packages (from ypy-websocket<0.9.0,>=0.8.2->jupyter-server-ydoc~=0.8.0->jupyterlab->-r requirements.txt (line 1)) (22.1.0)\n",
            "Requirement already satisfied: aiosqlite<1,>=0.17.0 in /usr/local/lib/python3.10/dist-packages (from ypy-websocket<0.9.0,>=0.8.2->jupyter-server-ydoc~=0.8.0->jupyterlab->-r requirements.txt (line 1)) (0.19.0)\n",
            "Requirement already satisfied: argon2-cffi-bindings in /usr/local/lib/python3.10/dist-packages (from argon2-cffi->jupyter-server<3,>=1.16.0->jupyterlab->-r requirements.txt (line 1)) (21.2.0)\n",
            "Requirement already satisfied: rfc3339-validator in /usr/local/lib/python3.10/dist-packages (from jupyter-events>=0.5.0->jupyter-server-fileid<1,>=0.6.0->jupyter-server-ydoc~=0.8.0->jupyterlab->-r requirements.txt (line 1)) (0.1.4)\n",
            "Requirement already satisfied: rfc3986-validator>=0.1.1 in /usr/local/lib/python3.10/dist-packages (from jupyter-events>=0.5.0->jupyter-server-fileid<1,>=0.6.0->jupyter-server-ydoc~=0.8.0->jupyterlab->-r requirements.txt (line 1)) (0.1.1)\n",
            "Requirement already satisfied: python-json-logger>=2.0.4 in /usr/local/lib/python3.10/dist-packages (from jupyter-events>=0.5.0->jupyter-server-fileid<1,>=0.6.0->jupyter-server-ydoc~=0.8.0->jupyterlab->-r requirements.txt (line 1)) (2.0.7)\n",
            "Requirement already satisfied: pyasn1<0.6.0,>=0.4.6 in /usr/local/lib/python3.10/dist-packages (from pyasn1-modules>=0.2.1->google-auth<3,>=1.6.3->tensorboard<2.13,>=2.12->tensorflow->-r requirements.txt (line 5)) (0.5.0)\n",
            "Requirement already satisfied: oauthlib>=3.0.0 in /usr/local/lib/python3.10/dist-packages (from requests-oauthlib>=0.7.0->google-auth-oauthlib<1.1,>=0.5->tensorboard<2.13,>=2.12->tensorflow->-r requirements.txt (line 5)) (3.2.2)\n",
            "Requirement already satisfied: cffi>=1.0.1 in /usr/local/lib/python3.10/dist-packages (from argon2-cffi-bindings->argon2-cffi->jupyter-server<3,>=1.16.0->jupyterlab->-r requirements.txt (line 1)) (1.15.1)\n",
            "Requirement already satisfied: soupsieve>1.2 in /usr/local/lib/python3.10/dist-packages (from beautifulsoup4->nbconvert>=6.4.4->jupyter-server<3,>=1.16.0->jupyterlab->-r requirements.txt (line 1)) (2.4.1)\n",
            "Requirement already satisfied: webencodings in /usr/local/lib/python3.10/dist-packages (from bleach->nbconvert>=6.4.4->jupyter-server<3,>=1.16.0->jupyterlab->-r requirements.txt (line 1)) (0.5.1)\n",
            "Requirement already satisfied: pycparser in /usr/local/lib/python3.10/dist-packages (from cffi>=1.0.1->argon2-cffi-bindings->argon2-cffi->jupyter-server<3,>=1.16.0->jupyterlab->-r requirements.txt (line 1)) (2.21)\n",
            "Requirement already satisfied: webcolors>=1.11 in /usr/local/lib/python3.10/dist-packages (from jsonschema>=4.17.3->jupyterlab-server~=2.19->jupyterlab->-r requirements.txt (line 1)) (1.13)\n",
            "Requirement already satisfied: uri-template in /usr/local/lib/python3.10/dist-packages (from jsonschema>=4.17.3->jupyterlab-server~=2.19->jupyterlab->-r requirements.txt (line 1)) (1.2.0)\n",
            "Requirement already satisfied: isoduration in /usr/local/lib/python3.10/dist-packages (from jsonschema>=4.17.3->jupyterlab-server~=2.19->jupyterlab->-r requirements.txt (line 1)) (20.11.0)\n",
            "Requirement already satisfied: fqdn in /usr/local/lib/python3.10/dist-packages (from jsonschema>=4.17.3->jupyterlab-server~=2.19->jupyterlab->-r requirements.txt (line 1)) (1.5.1)\n",
            "Requirement already satisfied: jsonpointer>1.13 in /usr/local/lib/python3.10/dist-packages (from jsonschema>=4.17.3->jupyterlab-server~=2.19->jupyterlab->-r requirements.txt (line 1)) (2.3)\n",
            "Requirement already satisfied: arrow>=0.15.0 in /usr/local/lib/python3.10/dist-packages (from isoduration->jsonschema>=4.17.3->jupyterlab-server~=2.19->jupyterlab->-r requirements.txt (line 1)) (1.2.3)\n"
          ]
        }
      ]
    },
    {
      "cell_type": "code",
      "execution_count": null,
      "metadata": {
        "id": "MIjnvBEJVsXk"
      },
      "outputs": [],
      "source": [
        "import os\n",
        "import sys\n",
        "import nltk\n",
        "from typing import List, Tuple, Union\n",
        "import pandas as pd\n",
        "import numpy as np\n",
        "import ast\n",
        "import matplotlib.pyplot as plt\n",
        "import json\n",
        "import random\n",
        "import torch\n",
        "import pickle\n",
        "from sklearn.model_selection import train_test_split\n",
        "from torch.nn import Module, ReLU, Linear, Sigmoid, BCELoss\n",
        "from torch.utils.data import TensorDataset, DataLoader, RandomSampler, SequentialSampler\n",
        "from torch.optim import Adam\n",
        "from torch.nn.utils import clip_grad_norm_\n",
        "from tqdm import tqdm\n",
        "from transformers import BertTokenizer, BertModel, TFBertModel\n",
        "import spacy"
      ]
    },
    {
      "cell_type": "code",
      "source": [
        "from nltk.tokenize import word_tokenize\n",
        "from nltk.stem import WordNetLemmatizer\n",
        "nltk.download('punkt')\n",
        "nltk.download('wordnet')"
      ],
      "metadata": {
        "colab": {
          "base_uri": "https://localhost:8080/"
        },
        "id": "L7_j2R3qDih2",
        "outputId": "94eefdfd-0a4b-4ebd-be82-c0536f273b67"
      },
      "execution_count": null,
      "outputs": [
        {
          "output_type": "stream",
          "name": "stderr",
          "text": [
            "[nltk_data] Downloading package punkt to /root/nltk_data...\n",
            "[nltk_data]   Package punkt is already up-to-date!\n",
            "[nltk_data] Downloading package wordnet to /root/nltk_data...\n",
            "[nltk_data]   Package wordnet is already up-to-date!\n"
          ]
        },
        {
          "output_type": "execute_result",
          "data": {
            "text/plain": [
              "True"
            ]
          },
          "metadata": {},
          "execution_count": 2
        }
      ]
    },
    {
      "cell_type": "markdown",
      "source": [
        "Data loading:"
      ],
      "metadata": {
        "id": "W-HL5sEJLEx_"
      }
    },
    {
      "cell_type": "code",
      "source": [
        "train_data = pd.read_csv('tsd_train.csv')\n",
        "test_data = pd.read_csv('tsd_test.csv')"
      ],
      "metadata": {
        "id": "1eJ1F9PWoamG"
      },
      "execution_count": null,
      "outputs": []
    },
    {
      "cell_type": "code",
      "source": [
        "print(\"Shape od Training Data: \", train_data.shape)\n",
        "print(train_data.head())"
      ],
      "metadata": {
        "colab": {
          "base_uri": "https://localhost:8080/"
        },
        "id": "wYEQ388To0sI",
        "outputId": "d2291ab7-f49f-478f-c64a-65d83d64fc43"
      },
      "execution_count": null,
      "outputs": [
        {
          "output_type": "stream",
          "name": "stdout",
          "text": [
            "Shape od Training Data:  (7939, 2)\n",
            "                                               spans  \\\n",
            "0  [8, 9, 10, 11, 12, 13, 14, 15, 16, 17, 18, 19,...   \n",
            "1                       [33, 34, 35, 36, 37, 38, 39]   \n",
            "2                                       [0, 1, 2, 3]   \n",
            "3          [7, 8, 9, 10, 11, 12, 13, 14, 15, 16, 17]   \n",
            "4                       [32, 33, 34, 35, 36, 37, 38]   \n",
            "\n",
            "                                                text  \n",
            "0  Another violent and aggressive immigrant killi...  \n",
            "1  I am 56 years old, I am not your fucking junio...  \n",
            "2                  Damn, a whole family. Sad indeed.  \n",
            "3  What a knucklehead. How can anyone not know th...  \n",
            "4  \"who do you think should do the killing?\"\\n\\nA...  \n"
          ]
        }
      ]
    },
    {
      "cell_type": "code",
      "source": [
        "print(\"Shape of Testing Data: \", test_data.shape)\n",
        "print(test_data.head())"
      ],
      "metadata": {
        "colab": {
          "base_uri": "https://localhost:8080/"
        },
        "id": "XFyh6S4ZMv_k",
        "outputId": "db8b0c05-83a3-4d29-a39b-c3b0575eae89"
      },
      "execution_count": null,
      "outputs": [
        {
          "output_type": "stream",
          "name": "stdout",
          "text": [
            "Shape of Testing Data:  (2000, 2)\n",
            "                                               spans  \\\n",
            "0  [84, 85, 86, 87, 88, 89, 90, 91, 133, 134, 135...   \n",
            "1                           [81, 82, 83, 84, 85, 86]   \n",
            "2                                                 []   \n",
            "3                                                 []   \n",
            "4                                                 []   \n",
            "\n",
            "                                                text  \n",
            "0  That's right. They are not normal. And I am st...  \n",
            "1  \"Watch people die from taking away their healt...  \n",
            "2  tens years ago i contacted the PDR and suggest...  \n",
            "3  The parallels between the ANC and the Sicilian...  \n",
            "4  Intel Community: ‘How can we work for a Presid...  \n"
          ]
        }
      ]
    },
    {
      "cell_type": "markdown",
      "source": [
        "Data Cleaning:\n",
        "\n",
        "- Data is clean. It does not have any null values/empty values."
      ],
      "metadata": {
        "id": "6RSMXH0WLhIn"
      }
    },
    {
      "cell_type": "code",
      "source": [
        "print(train_data.isnull().sum(axis=0))\n",
        "print(test_data.isnull().sum(axis=0))"
      ],
      "metadata": {
        "colab": {
          "base_uri": "https://localhost:8080/"
        },
        "id": "FaIV6ecIzqpK",
        "outputId": "8beea42f-8f58-4d5b-9524-93483b0cb954"
      },
      "execution_count": null,
      "outputs": [
        {
          "output_type": "stream",
          "name": "stdout",
          "text": [
            "spans    0\n",
            "text     0\n",
            "dtype: int64\n",
            "spans    0\n",
            "text     0\n",
            "dtype: int64\n"
          ]
        }
      ]
    },
    {
      "cell_type": "markdown",
      "source": [
        "Data Pre-processing"
      ],
      "metadata": {
        "id": "S_qI_ntBLLXE"
      }
    },
    {
      "cell_type": "markdown",
      "source": [
        "- Converting the spans columns from string to valid lists."
      ],
      "metadata": {
        "id": "UadCoJ8OLxQs"
      }
    },
    {
      "cell_type": "code",
      "source": [
        "train_data[\"spans\"] = [ast.literal_eval(x) for x in train_data[\"spans\"]]\n",
        "test_data[\"spans\"] = [ast.literal_eval(x) for x in test_data[\"spans\"]]"
      ],
      "metadata": {
        "id": "lEVXm3i_fsyP"
      },
      "execution_count": null,
      "outputs": []
    },
    {
      "cell_type": "code",
      "source": [
        "empty_spans_train, empty_spans_test = 0, 0\n",
        "for i in train_data[\"spans\"]:\n",
        "  if len(i) == 0:\n",
        "    empty_spans_train += 1\n",
        "print(\"Number of empty spans in train: \", empty_spans_train)\n",
        "\n",
        "for i in test_data[\"spans\"]:\n",
        "  if len(i) == 0:\n",
        "    empty_spans_test += 1\n",
        "print(\"Number of empty spans in test: \", empty_spans_test)\n"
      ],
      "metadata": {
        "colab": {
          "base_uri": "https://localhost:8080/"
        },
        "id": "dDVcSA_9L-rX",
        "outputId": "b45d3612-2b98-4cf6-e06f-99f0a1264c5b"
      },
      "execution_count": null,
      "outputs": [
        {
          "output_type": "stream",
          "name": "stdout",
          "text": [
            "Number of empty spans in train:  485\n",
            "Number of empty spans in test:  394\n"
          ]
        }
      ]
    },
    {
      "cell_type": "code",
      "source": [
        "def new_spans(data_text, data_span):\n",
        "    spans_new = []\n",
        "    for idx in range(len(data_text)):\n",
        "      sentence = []\n",
        "      start = None\n",
        "      for idx_arr in range(len(data_span[idx])):\n",
        "        if start is None or data_span[idx][idx_arr] != data_span[idx][idx_arr-1] + 1:\n",
        "          if start is not None:\n",
        "            sentence.append(data_text[idx][start:data_span[idx][idx_arr-1]+1])\n",
        "          start = data_span[idx][idx_arr]\n",
        "      if start is not None:\n",
        "        sentence.append(data_text[idx][start:data_span[idx][-1]+1])\n",
        "      spans_new.append(sentence)\n",
        "    return spans_new"
      ],
      "metadata": {
        "id": "nxQXqKeifqo5"
      },
      "execution_count": null,
      "outputs": []
    },
    {
      "cell_type": "code",
      "source": [
        "train_spans_new = new_spans(train_data[\"text\"], train_data[\"spans\"])\n",
        "test_spans_new = new_spans(test_data[\"text\"], test_data[\"spans\"])"
      ],
      "metadata": {
        "id": "3FwFQ39uhS4S"
      },
      "execution_count": null,
      "outputs": []
    },
    {
      "cell_type": "code",
      "source": [
        "nlp = spacy.blank(\"en\")\n",
        "\n",
        "tokenizer = BertTokenizer.from_pretrained('bert-base-uncased', do_lower_case=True)"
      ],
      "metadata": {
        "id": "sazv8q2fxehk"
      },
      "execution_count": null,
      "outputs": []
    },
    {
      "cell_type": "code",
      "source": [
        "def text_2_tokens(text):\n",
        "  text = nlp(text)\n",
        "  text_tokens = []\n",
        "  for token in text:\n",
        "      text_subtokens = tokenizer.tokenize(token.text)\n",
        "      text_tokens += text_subtokens\n",
        "  return text_tokens"
      ],
      "metadata": {
        "id": "_ix2-DWO3uD9"
      },
      "execution_count": null,
      "outputs": []
    },
    {
      "cell_type": "code",
      "source": [
        "train_text_tokens, test_text_tokens = [], []\n",
        "for idx in range(len(train_data)):\n",
        "  train_text_token = text_2_tokens(train_data[\"text\"][idx])\n",
        "  train_text_tokens.append(train_text_token)\n",
        "\n",
        "for idx in range(len(test_data)):\n",
        "  test_text_token = text_2_tokens(test_data[\"text\"][idx])\n",
        "  test_text_tokens.append(test_text_token)"
      ],
      "metadata": {
        "id": "y-bzHEjU3uFw"
      },
      "execution_count": null,
      "outputs": []
    },
    {
      "cell_type": "code",
      "source": [
        "def bin_tokens(tokens, text, spans):\n",
        "  token_idx = []\n",
        "  start, end = 0, 0\n",
        "  for token in tokens:\n",
        "    sent = text.lower()\n",
        "    token = token.strip('#')\n",
        "    start = sent.find(token, start)\n",
        "    end = start + len(token)\n",
        "    token_idx.append((start,end))\n",
        "    start = end\n",
        "\n",
        "  toxic_words = []\n",
        "  for word, (start,end) in zip(tokens, token_idx):\n",
        "    k = [i for i in range(start,end)]\n",
        "    if any(i in spans for i in k):\n",
        "      toxic_words.append(1)\n",
        "    else:\n",
        "      toxic_words.append(0)\n",
        "\n",
        "  return toxic_words"
      ],
      "metadata": {
        "id": "oaa1JdvGWoTh"
      },
      "execution_count": null,
      "outputs": []
    },
    {
      "cell_type": "code",
      "source": [
        "toxic_binary_train = []\n",
        "for idx in range(len(train_data)):\n",
        "  toxic_words = bin_tokens(train_text_tokens[idx], train_data[\"text\"][idx], train_data[\"spans\"][idx])\n",
        "  toxic_binary_train.append(toxic_words)"
      ],
      "metadata": {
        "id": "GwPEpLAiXdFg"
      },
      "execution_count": null,
      "outputs": []
    },
    {
      "cell_type": "code",
      "source": [
        "maxlen = max([len(x) for x in train_text_tokens])\n",
        "print(maxlen)"
      ],
      "metadata": {
        "colab": {
          "base_uri": "https://localhost:8080/"
        },
        "id": "mHaGG66s3uK1",
        "outputId": "76d4e769-259c-4a55-a18f-62496c9e19ea"
      },
      "execution_count": null,
      "outputs": [
        {
          "output_type": "stream",
          "name": "stdout",
          "text": [
            "336\n"
          ]
        }
      ]
    },
    {
      "cell_type": "code",
      "source": [
        "np.random.seed(70)\n",
        "torch.manual_seed(70)"
      ],
      "metadata": {
        "id": "4cyCXn46-Gex",
        "colab": {
          "base_uri": "https://localhost:8080/"
        },
        "outputId": "2306fa0e-71e3-490e-c8f9-439d6242ae44"
      },
      "execution_count": null,
      "outputs": [
        {
          "output_type": "execute_result",
          "data": {
            "text/plain": [
              "<torch._C.Generator at 0x7efcd50f56d0>"
            ]
          },
          "metadata": {},
          "execution_count": 20
        }
      ]
    },
    {
      "cell_type": "code",
      "source": [
        "train_tokens1 = [['[CLS]'] + t[:maxlen - 2] + ['[SEP]'] for t in train_text_tokens]\n",
        "test_tokens = [['[CLS]'] + t[:maxlen - 2] + ['[SEP]'] for t in test_text_tokens]\n",
        "\n",
        "print(len(train_tokens1), len(test_tokens))\n",
        "print(\"Train tokens:\", train_tokens1[0:2])\n",
        "print(\"Test tokens:\", test_tokens[0:2])"
      ],
      "metadata": {
        "id": "jbjpGDdu-GiF",
        "colab": {
          "base_uri": "https://localhost:8080/"
        },
        "outputId": "dcadb894-b67d-4a2c-f819-0a972c678742"
      },
      "execution_count": null,
      "outputs": [
        {
          "output_type": "stream",
          "name": "stdout",
          "text": [
            "7939 2000\n",
            "Train tokens: [['[CLS]', 'another', 'violent', 'and', 'aggressive', 'immigrant', 'killing', 'a', 'innocent', 'and', 'intelligent', 'us', 'citizen', '.', '.', '.', '.', 'sarcasm', '[SEP]'], ['[CLS]', 'i', 'am', '56', 'years', 'old', ',', 'i', 'am', 'not', 'your', 'fucking', 'junior', 'pal', '.', 'what', 'you', 'are', 'saying', 'makes', 'no', 'sense', '.', 'i', 'do', 'n', \"'\", 't', 'know', 'what', 'you', 'are', 'basin', '##g', 'this', 'on', '.', 'the', 'cheap', 'black', 'market', 'crap', 'is', 'still', 'coming', 'up', 'from', 'mexican', 'nationals', ',', 'and', 'the', 'good', 'stuff', 'from', 'bc', 'and', 'hum', '##bolt', '.', 'the', 'i', '##5', 'corridor', 'is', 'still', 'just', 'as', 'busy', ',', 'and', 'they', 'are', 'still', 'making', 'a', 'ton', 'of', 'money', '.', 'nothing', 'has', 'really', 'changed', 'except', 'that', 'the', 'legal', 'market', 'has', 'made', 'it', 'easy', 'for', 'anyone', 'of', 'legal', 'age', 'to', 'buy', 'it', '.', 'and', 'the', 'legal', 'market', 'is', 'controlled', 'by', 'corporate', 'grow', '##ers', 'with', 'million', 'dollar', 'facilities', ',', 'or', 'a', 'co', '-', 'op', 'of', 'smaller', 'grow', '##ers', '.', 'the', 'federal', 'government', '\"', 'war', 'on', 'drugs', '\"', 'really', 'has', 'no', 'impact', 'on', 'the', 'legal', 'market', 'in', 'oregon', '.', 'i', 'do', 'n', \"'\", 't', 'see', 'any', 'g', '##lu', '##tton', 'of', 'weed', ',', 'whatever', 'that', 'means', '.', '[SEP]']]\n",
            "Test tokens: [['[CLS]', 'that', \"'\", 's', 'right', '.', 'they', 'are', 'not', 'normal', '.', 'and', 'i', 'am', 'starting', 'from', 'the', 'premise', 'that', 'they', 'are', 'abnormal', '.', 'proceed', 'w', '##th', 'the', 'typical', 'racist', ',', 'big', '##ot', ',', 'sex', '##ist', 'rubbish', '.', 'thanks', '!', '[SEP]'], ['[CLS]', '\"', 'watch', 'people', 'die', 'from', 'taking', 'away', 'their', 'healthcare', '\"', 'ding', 'ding', 'ding', '!', 'winner', 'of', 'stupid', 'post', 'of', 'the', 'day', 'award', '!', '[SEP]']]\n"
          ]
        }
      ]
    },
    {
      "cell_type": "code",
      "source": [
        "def pad_tokens(tokens, max_len=maxlen):\n",
        "    length = len(tokens)\n",
        "    pad_length = max_len - length\n",
        "    if pad_length < 0:\n",
        "        pad_length = 0\n",
        "    \n",
        "    tokens += [0] * pad_length                                 # pad tokens with zeros if necessary\n",
        "    \n",
        "    if length > max_len:                                       # truncate tokens if necessary\n",
        "        tokens = tokens[:max_len]\n",
        "    \n",
        "    mask = [1] * length + [0] * pad_length                     # create attention mask to indicate which tokens are padding (0) and which are not (1)\n",
        "\n",
        "    tokens = np.array(tokens, dtype=\"int\")\n",
        "    mask = np.array(mask, dtype=\"int\")\n",
        "    \n",
        "    return tokens, mask"
      ],
      "metadata": {
        "id": "EFeYTllm-z45"
      },
      "execution_count": null,
      "outputs": []
    },
    {
      "cell_type": "code",
      "source": [
        "def token_ids_and_masks(text_tokens):\n",
        "    token_ids, masks = [], []\n",
        "\n",
        "    for token in text_tokens:\n",
        "        tokens, mask = pad_tokens(tokenizer.convert_tokens_to_ids(token), maxlen)\n",
        "        token_ids.append(tokens)\n",
        "        masks.append(mask)\n",
        "\n",
        "    return np.array(token_ids), np.array(masks)\n",
        "\n",
        "tr_token_ids, tr_masks = token_ids_and_masks(train_tokens1)\n",
        "te_token_ids, te_masks = token_ids_and_masks(test_tokens)"
      ],
      "metadata": {
        "id": "0pit0ILk-z7D"
      },
      "execution_count": null,
      "outputs": []
    },
    {
      "cell_type": "code",
      "source": [
        "train_text_labels = [[0] + arr[:maxlen - 2] + [0] for arr in toxic_binary_train]\n",
        "\n",
        "train_labels1 = []\n",
        "for label in train_text_labels:\n",
        "\n",
        "    if len(label) >= maxlen:                            # Truncate or pad the label to the desired length\n",
        "        label = label[:maxlen]\n",
        "    else:\n",
        "        label += [0] * (maxlen - len(label))\n",
        "\n",
        "    label = [value for value in label]                  # Convert to a array\n",
        "    train_labels1.append(label)\n"
      ],
      "metadata": {
        "id": "lGud4gzvSKUk"
      },
      "execution_count": null,
      "outputs": []
    },
    {
      "cell_type": "code",
      "source": [
        "# Training and Validation\n",
        "# dataframe - spans, text, toxic_phrases_train, train_text_tokens -> train_tokens -> (tr_token_ids, tr_masks), toxic_binary_train -> train_text_labels -> train_labels1, train_tokens -> train_split_tokens\n",
        "# spans, text, toxic_phrases_train, tr_token_ids, tr_masks, train_labels, train_split_tokens   =====> train and valid\n",
        "\n",
        "#Testing\n",
        "# dataframe - spans, text, test_text_tokens -> test_tokens -> (te_token_ids, te_masks), toxic_binary_test -> test_text_labels -> test_labels\n",
        "# spans, text, te_token_ids, te_masks, test_labels"
      ],
      "metadata": {
        "id": "jJ89N3l3Ga7D"
      },
      "execution_count": null,
      "outputs": []
    },
    {
      "cell_type": "code",
      "source": [
        "valid_ratio = 0.15\n",
        "\n",
        "train_spans, valid_spans, train_text, valid_text, train_token_ids, valid_token_ids, train_masks, valid_masks, train_labels, valid_labels , train_tokens, valid_tokens \\\n",
        "= train_test_split(train_data[\"spans\"].tolist(), train_data[\"text\"].tolist(), tr_token_ids, tr_masks, train_labels1, train_tokens1, test_size=valid_ratio, random_state=42)"
      ],
      "metadata": {
        "id": "OkRjRzBxEdHO"
      },
      "execution_count": null,
      "outputs": []
    },
    {
      "cell_type": "code",
      "source": [
        "class BertClassifier(Module):\n",
        "  \n",
        "    def __init__(self, hidden_units):\n",
        "        super().__init__()\n",
        "\n",
        "        self.bert = BertModel.from_pretrained('bert-base-uncased')\n",
        "        self.hidden_layer = Linear(BertModel.from_pretrained('bert-base-uncased').config.hidden_size, hidden_units)\n",
        "        self.activation = ReLU()\n",
        "        self.out = Linear(hidden_units, 1)\n",
        "        self.final_activation = Sigmoid()\n",
        "\n",
        "    def forward(self, input, mask, labels=None):\n",
        "        outputs = self.bert(input_ids=input, attention_mask=mask)          # Inputs are passed to bert model\n",
        "        hid_layer_output = self.hidden_layer(outputs.last_hidden_state)    # Outputs of the last hidden state are the inputs to the next hidden state\n",
        "        activation_output = self.activation(hid_layer_output)              # Those outputs are send through activation layer (ReLU)\n",
        "        output_layer = self.out(activation_output)                         # Output from the Linear layer\n",
        "        final_output = self.final_activation(output_layer)                 # This is paased through final activation function (sigmoid)\n",
        "\n",
        "        bce_loss = BCELoss()\n",
        "        loss = 0\n",
        "        if labels is not None:\n",
        "            loss = bce_loss(final_output, labels.float())\n",
        "            \n",
        "        return loss, final_output\n",
        "\n",
        "hidden_units = 32\n",
        "device = torch.device(\"cuda\" if torch.cuda.is_available() else \"cpu\")\n",
        "model = BertClassifier(hidden_units).to(device)\n"
      ],
      "metadata": {
        "id": "0OILFanXScTD",
        "colab": {
          "base_uri": "https://localhost:8080/"
        },
        "outputId": "f91c1feb-b2cc-41c8-fb48-4d6ce0909fe7"
      },
      "execution_count": null,
      "outputs": [
        {
          "output_type": "stream",
          "name": "stderr",
          "text": [
            "Some weights of the model checkpoint at bert-base-uncased were not used when initializing BertModel: ['cls.seq_relationship.bias', 'cls.predictions.transform.dense.weight', 'cls.predictions.decoder.weight', 'cls.predictions.transform.dense.bias', 'cls.seq_relationship.weight', 'cls.predictions.bias', 'cls.predictions.transform.LayerNorm.bias', 'cls.predictions.transform.LayerNorm.weight']\n",
            "- This IS expected if you are initializing BertModel from the checkpoint of a model trained on another task or with another architecture (e.g. initializing a BertForSequenceClassification model from a BertForPreTraining model).\n",
            "- This IS NOT expected if you are initializing BertModel from the checkpoint of a model that you expect to be exactly identical (initializing a BertForSequenceClassification model from a BertForSequenceClassification model).\n",
            "Some weights of the model checkpoint at bert-base-uncased were not used when initializing BertModel: ['cls.seq_relationship.bias', 'cls.predictions.transform.dense.weight', 'cls.predictions.decoder.weight', 'cls.predictions.transform.dense.bias', 'cls.seq_relationship.weight', 'cls.predictions.bias', 'cls.predictions.transform.LayerNorm.bias', 'cls.predictions.transform.LayerNorm.weight']\n",
            "- This IS expected if you are initializing BertModel from the checkpoint of a model trained on another task or with another architecture (e.g. initializing a BertForSequenceClassification model from a BertForPreTraining model).\n",
            "- This IS NOT expected if you are initializing BertModel from the checkpoint of a model that you expect to be exactly identical (initializing a BertForSequenceClassification model from a BertForSequenceClassification model).\n"
          ]
        }
      ]
    },
    {
      "cell_type": "code",
      "source": [
        "# from torchsummary import summary\n",
        "# import torchvision.models as models\n",
        "# summary(model, input_size, batch_size=-1, device='cuda')"
      ],
      "metadata": {
        "id": "ecwW9lcSw-gU"
      },
      "execution_count": null,
      "outputs": []
    },
    {
      "cell_type": "code",
      "source": [
        "import sys\n",
        "\n",
        "with open('network.txt', 'w') as f:\n",
        "    sys.stdout = f\n",
        "    summary(model, input_size, device=device.type)\n",
        "    sys.stdout = sys.__stdout__"
      ],
      "metadata": {
        "id": "wwwRqsXTUide"
      },
      "execution_count": null,
      "outputs": []
    },
    {
      "cell_type": "code",
      "source": [
        "from torchsummary import summary\n",
        "# Generate the summary and save it to \"network.txt\"\n",
        "input_size = (1, 512)  # Adjust the input size according to your model input\n",
        "with open(\"network.txt\", \"w\") as f:\n",
        "    summary(model, input_size, device=device.type, file=f)\n"
      ],
      "metadata": {
        "id": "XkSZthbmxl53"
      },
      "execution_count": null,
      "outputs": []
    },
    {
      "cell_type": "code",
      "source": [
        "# from torchsummary import summary\n",
        "\n",
        "# with open(\"network.txt\", \"w\") as f:\n",
        "#     summary(model, (6748, 336,)) # Replace input_size with the size of your input\n",
        "#     f.write(str(summary))"
      ],
      "metadata": {
        "id": "-bB4gIAvaBfM"
      },
      "execution_count": null,
      "outputs": []
    },
    {
      "cell_type": "code",
      "source": [
        "# (torch.tensor(train_token_ids)).size()\n",
        "# (torch.tensor(train_masks)).size()\n",
        "# train_dataset.shape"
      ],
      "metadata": {
        "id": "Q9OJjKZOkq4I"
      },
      "execution_count": null,
      "outputs": []
    },
    {
      "cell_type": "code",
      "source": [
        "print(model)"
      ],
      "metadata": {
        "id": "TUaQTsmsScEh",
        "colab": {
          "base_uri": "https://localhost:8080/"
        },
        "outputId": "56478e1c-e978-40f0-c43d-79b972538f30"
      },
      "execution_count": null,
      "outputs": [
        {
          "output_type": "stream",
          "name": "stdout",
          "text": [
            "BertClassifier(\n",
            "  (bert): BertModel(\n",
            "    (embeddings): BertEmbeddings(\n",
            "      (word_embeddings): Embedding(30522, 768, padding_idx=0)\n",
            "      (position_embeddings): Embedding(512, 768)\n",
            "      (token_type_embeddings): Embedding(2, 768)\n",
            "      (LayerNorm): LayerNorm((768,), eps=1e-12, elementwise_affine=True)\n",
            "      (dropout): Dropout(p=0.1, inplace=False)\n",
            "    )\n",
            "    (encoder): BertEncoder(\n",
            "      (layer): ModuleList(\n",
            "        (0-11): 12 x BertLayer(\n",
            "          (attention): BertAttention(\n",
            "            (self): BertSelfAttention(\n",
            "              (query): Linear(in_features=768, out_features=768, bias=True)\n",
            "              (key): Linear(in_features=768, out_features=768, bias=True)\n",
            "              (value): Linear(in_features=768, out_features=768, bias=True)\n",
            "              (dropout): Dropout(p=0.1, inplace=False)\n",
            "            )\n",
            "            (output): BertSelfOutput(\n",
            "              (dense): Linear(in_features=768, out_features=768, bias=True)\n",
            "              (LayerNorm): LayerNorm((768,), eps=1e-12, elementwise_affine=True)\n",
            "              (dropout): Dropout(p=0.1, inplace=False)\n",
            "            )\n",
            "          )\n",
            "          (intermediate): BertIntermediate(\n",
            "            (dense): Linear(in_features=768, out_features=3072, bias=True)\n",
            "            (intermediate_act_fn): GELUActivation()\n",
            "          )\n",
            "          (output): BertOutput(\n",
            "            (dense): Linear(in_features=3072, out_features=768, bias=True)\n",
            "            (LayerNorm): LayerNorm((768,), eps=1e-12, elementwise_affine=True)\n",
            "            (dropout): Dropout(p=0.1, inplace=False)\n",
            "          )\n",
            "        )\n",
            "      )\n",
            "    )\n",
            "    (pooler): BertPooler(\n",
            "      (dense): Linear(in_features=768, out_features=768, bias=True)\n",
            "      (activation): Tanh()\n",
            "    )\n",
            "  )\n",
            "  (hidden_layer): Linear(in_features=768, out_features=32, bias=True)\n",
            "  (activation): ReLU()\n",
            "  (out): Linear(in_features=32, out_features=1, bias=True)\n",
            "  (final_activation): Sigmoid()\n",
            ")\n"
          ]
        }
      ]
    },
    {
      "cell_type": "code",
      "source": [
        "BATCH_SIZE = 8\n",
        "\n",
        "train_dataset = TensorDataset(\n",
        "    torch.tensor(train_token_ids),\n",
        "    torch.tensor(train_masks),\n",
        "    torch.tensor(train_labels))\n",
        "train_dataloader = DataLoader(train_dataset, batch_size=BATCH_SIZE, shuffle=True)\n",
        "\n",
        "valid_dataset = TensorDataset(\n",
        "    torch.tensor(valid_token_ids),\n",
        "    torch.tensor(valid_masks),\n",
        "    torch.tensor(valid_labels))\n",
        "valid_dataloader = DataLoader(valid_dataset, batch_size=BATCH_SIZE, shuffle=False)\n",
        "\n",
        "test_dataset = TensorDataset(torch.tensor(te_token_ids), torch.tensor(te_masks))\n",
        "test_sampler = SequentialSampler(test_dataset)\n",
        "test_dataloader = DataLoader(test_dataset, sampler=test_sampler, batch_size=BATCH_SIZE)"
      ],
      "metadata": {
        "id": "izjIWRW-Sbz0"
      },
      "execution_count": null,
      "outputs": []
    },
    {
      "cell_type": "code",
      "source": [
        "optimizer = Adam(model.parameters(), lr=3e-6)"
      ],
      "metadata": {
        "id": "6zGtorkHSKYG"
      },
      "execution_count": null,
      "outputs": []
    },
    {
      "cell_type": "code",
      "source": [
        "EPOCHS = 3\n",
        "loss = BCELoss()\n",
        "total_len = len(train_token_ids)\n",
        "valid_len = len(valid_token_ids)\n",
        "epoch_train_loss = []\n",
        "epoch_valid_loss = []\n",
        "for epoch_num in range(EPOCHS):\n",
        "    train_losses = []\n",
        "    valid_losses = []\n",
        "    model.train()\n",
        "    for step, batch_data in enumerate(tqdm(train_dataloader)):\n",
        "\n",
        "        token_ids, masks, labels = tuple(t.to(device) for t in batch_data)\n",
        "\n",
        "        labels = labels.unsqueeze(-1)                                            # make labels shape similar to output shape before passing to loss. labels- (batch_size x sequence length x 1)\n",
        "\n",
        "        loss, _ = model(token_ids, masks, labels)                                # token_ids, masks, labels = all are of size (batch_size x sequence length)\n",
        "\n",
        "        train_loss = loss.item()\n",
        "        \n",
        "        model.zero_grad()\n",
        "        loss.backward()\n",
        "\n",
        "        clip_grad_norm_(parameters=model.parameters(), max_norm=1.0)\n",
        "        optimizer.step()\n",
        "        \n",
        "        train_losses.append(train_loss)\n",
        "\n",
        "    epoch_train_loss.append(np.mean(train_losses))\n",
        "\n",
        "    model.eval()                                                                 # switch the model to evaluation mode\n",
        "    with torch.no_grad():                                                        # temporarily disable gradient calculations within the for loop\n",
        "        for step1, batch_data1 in enumerate(tqdm(valid_dataloader)):\n",
        "            token_ids1, masks1, labels1 = tuple(t.to(device) for t in batch_data1)\n",
        "            labels1 = labels1.unsqueeze(-1)  \n",
        "            valid_loss, _ = model(token_ids1, masks1, labels1)\n",
        "            valid_losses.append(valid_loss.item())\n",
        "\n",
        "    epoch_valid_loss.append(np.mean(valid_losses))\n",
        "\n",
        "    print(f'\\nEpoch {epoch_num + 1} / {EPOCHS} - train loss: {epoch_train_loss[-1] :.4f} - valid loss: {epoch_valid_loss[-1] :.4f}')"
      ],
      "metadata": {
        "id": "H4oV0eOP8qBh",
        "colab": {
          "base_uri": "https://localhost:8080/"
        },
        "outputId": "c8ef3c6b-92da-4e1f-8d32-be7b24df7537"
      },
      "execution_count": null,
      "outputs": [
        {
          "output_type": "stream",
          "name": "stderr",
          "text": [
            "100%|██████████| 844/844 [07:13<00:00,  1.95it/s]\n",
            "100%|██████████| 149/149 [00:26<00:00,  5.71it/s]\n"
          ]
        },
        {
          "output_type": "stream",
          "name": "stdout",
          "text": [
            "\n",
            "Epoch 1 / 3 - train loss: 0.0758 - valid loss: 0.0368\n"
          ]
        },
        {
          "output_type": "stream",
          "name": "stderr",
          "text": [
            "100%|██████████| 844/844 [07:11<00:00,  1.95it/s]\n",
            "100%|██████████| 149/149 [00:26<00:00,  5.72it/s]\n"
          ]
        },
        {
          "output_type": "stream",
          "name": "stdout",
          "text": [
            "\n",
            "Epoch 2 / 3 - train loss: 0.0358 - valid loss: 0.0333\n"
          ]
        },
        {
          "output_type": "stream",
          "name": "stderr",
          "text": [
            "100%|██████████| 844/844 [07:11<00:00,  1.96it/s]\n",
            "100%|██████████| 149/149 [00:26<00:00,  5.71it/s]"
          ]
        },
        {
          "output_type": "stream",
          "name": "stdout",
          "text": [
            "\n",
            "Epoch 3 / 3 - train loss: 0.0323 - valid loss: 0.0319\n"
          ]
        },
        {
          "output_type": "stream",
          "name": "stderr",
          "text": [
            "\n"
          ]
        }
      ]
    },
    {
      "cell_type": "code",
      "source": [
        "# import torch\n",
        "# torch.cuda.empty_cache()"
      ],
      "metadata": {
        "id": "xFgb47EMCYy5"
      },
      "execution_count": null,
      "outputs": []
    },
    {
      "cell_type": "code",
      "source": [
        "# torch.cuda.memory_summary(device=None, abbreviated=False)"
      ],
      "metadata": {
        "id": "WYhSwt-5CeLk"
      },
      "execution_count": null,
      "outputs": []
    },
    {
      "cell_type": "code",
      "source": [
        "EPOCHS1 = [1,2,3]\n",
        "plt.plot(EPOCHS1, epoch_train_loss, 'b', label = 'Training loss')\n",
        "plt.plot(EPOCHS1, epoch_valid_loss, 'r', label = 'Validation loss')\n",
        "plt.xlabel('Epochs')\n",
        "plt.ylabel('Loss')\n",
        "plt.legend()\n",
        "plt.show()"
      ],
      "metadata": {
        "colab": {
          "base_uri": "https://localhost:8080/",
          "height": 449
        },
        "id": "M4uX6lgoUgUM",
        "outputId": "2f7d0838-2741-412f-8f83-19f925496e70"
      },
      "execution_count": null,
      "outputs": [
        {
          "output_type": "display_data",
          "data": {
            "text/plain": [
              "<Figure size 640x480 with 1 Axes>"
            ],
            "image/png": "[encoded data removed]"
          },
          "metadata": {}
        }
      ]
    },
    {
      "cell_type": "code",
      "source": [
        "torch.save(model.state_dict(), 'NLP_project_checkpoint.pt')"
      ],
      "metadata": {
        "id": "kF_-Ilpa8qGk"
      },
      "execution_count": null,
      "outputs": []
    },
    {
      "cell_type": "code",
      "source": [
        "# from google.colab import files\n",
        "# files.download('NLP_project_checkpoint.pt')"
      ],
      "metadata": {
        "id": "_SfFs9IceQcD"
      },
      "execution_count": null,
      "outputs": []
    },
    {
      "cell_type": "code",
      "source": [
        "model.eval()                                                               # switch the model to evaluation mode\n",
        "\n",
        "valid_token_ids, valid_masks, valid_preds = [], [], []\n",
        "                                                \n",
        "with torch.no_grad():                                                      # temporarily disable gradient calculations within the for loop\n",
        "    for step3, batch_data3 in enumerate(tqdm(valid_dataloader)):\n",
        "        valid_tokens_batch, valid_masks_batch, valid_labels_batch = tuple(t.to(device) for t in batch_data3)\n",
        "        valid_labels_batch = valid_labels_batch.unsqueeze(-1)\n",
        "        _, valid_output = model(valid_tokens_batch, valid_masks_batch, valid_labels_batch)\n",
        "        valid_token_ids.append(valid_tokens_batch)\n",
        "        valid_masks.append(valid_masks_batch)\n",
        "        valid_preds.append(valid_output[:, :, 0])\n",
        "\n",
        "valid_token_ids = torch.cat(valid_token_ids, dim=0).tolist()\n",
        "valid_masks = torch.cat(valid_masks, dim=0).tolist()\n",
        "valid_preds = torch.cat(valid_preds, dim=0).tolist()"
      ],
      "metadata": {
        "colab": {
          "base_uri": "https://localhost:8080/"
        },
        "id": "EvGuo1kVCDCU",
        "outputId": "cfa0bf79-efc9-4b0e-8066-a6ed611a419c"
      },
      "execution_count": null,
      "outputs": [
        {
          "output_type": "stream",
          "name": "stderr",
          "text": [
            "100%|██████████| 149/149 [00:25<00:00,  5.76it/s]\n"
          ]
        }
      ]
    },
    {
      "cell_type": "code",
      "source": [
        "model.eval()                                                         # switch the model to evaluation mode\n",
        "\n",
        "test_tokens_ids, test_masks, test_preds = [], [], []\n",
        "\n",
        "with torch.no_grad():                                                # temporarily disable gradient calculations within the for loop\n",
        "    for step, batch_data in enumerate(tqdm(test_dataloader)):\n",
        "        token_ids, masks = tuple(t.to(device) for t in batch_data)\n",
        "        _, output = model(token_ids, masks)\n",
        "        test_tokens_ids += token_ids.tolist()\n",
        "        test_masks += masks.tolist()\n",
        "        test_preds += output[:, :, 0].tolist()"
      ],
      "metadata": {
        "colab": {
          "base_uri": "https://localhost:8080/"
        },
        "id": "KayB6As3SLbf",
        "outputId": "f3a5e7a7-3090-458a-8da8-151266b721dd"
      },
      "execution_count": null,
      "outputs": [
        {
          "output_type": "stream",
          "name": "stderr",
          "text": [
            "100%|██████████| 250/250 [00:44<00:00,  5.56it/s]\n"
          ]
        }
      ]
    },
    {
      "cell_type": "code",
      "source": [
        "import copy\n",
        "def threshold_fun(preds, threshold):\n",
        "    # testy_preds = []\n",
        "    # for i in test_preds:\n",
        "    #     testy_preds.append(np.mean(i))         # converting the predicted values into binary values given a threshold\n",
        "    pred = copy.deepcopy(preds)\n",
        "    for i in range(len(pred)):\n",
        "        for j in range(len(pred[0])):\n",
        "          if pred[i][j] >= threshold:\n",
        "              pred[i][j] = 1\n",
        "          else:\n",
        "              pred[i][j] = 0\n",
        "    return pred"
      ],
      "metadata": {
        "id": "trGwnHbLIjfQ"
      },
      "execution_count": null,
      "outputs": []
    },
    {
      "cell_type": "code",
      "source": [
        "valid_pred = threshold_fun(valid_preds, 0.6)"
      ],
      "metadata": {
        "id": "wAjDAUo3aVNr"
      },
      "execution_count": null,
      "outputs": []
    },
    {
      "cell_type": "code",
      "source": [
        "def truncated(preds, masks): \n",
        "  new_preds = []\n",
        "  for pr, ma in zip(preds, masks):\n",
        "    pr = [pr[i] for i in range(len(pr)) if ma[i]==1]   #truncate\n",
        "    new_preds.append(pr)\n",
        "  return new_preds"
      ],
      "metadata": {
        "id": "MPxjmMyrRiTv"
      },
      "execution_count": null,
      "outputs": []
    },
    {
      "cell_type": "code",
      "source": [
        "valid_new_labels = truncated(valid_labels, valid_masks)\n",
        "valid_new_preds = truncated(valid_pred, valid_masks)"
      ],
      "metadata": {
        "id": "jDX_VF7CvOEe"
      },
      "execution_count": null,
      "outputs": []
    },
    {
      "cell_type": "code",
      "source": [
        "def id_2_tokens(token_ids):\n",
        "    id2token=[]\n",
        "    for i in range(len(token_ids)):\n",
        "        id2token.append(tokenizer.convert_ids_to_tokens(token_ids[i]))\n",
        "    return id2token"
      ],
      "metadata": {
        "id": "_Lbdb68Md6AY"
      },
      "execution_count": null,
      "outputs": []
    },
    {
      "cell_type": "code",
      "source": [
        "valid_tokens_new = id_2_tokens(valid_token_ids)"
      ],
      "metadata": {
        "id": "vFAdr7Jyd6Dt"
      },
      "execution_count": null,
      "outputs": []
    },
    {
      "cell_type": "code",
      "source": [
        "def toxic_tokens(tokens, predicts, texts):\n",
        "    final_toxic_tokens = []\n",
        "    for (token, pred, text) in zip(tokens, predicts, texts):\n",
        "        toxic_tokens_spans = []\n",
        "        start = 0\n",
        "        for i in range(len(token)):\n",
        "            tk = token[i].strip('#')\n",
        "            start = text.find(tk,start)\n",
        "            end = start + len(tk)\n",
        "            if pred[i] == 1 and start!=-1:\n",
        "                toxic_tokens_spans.extend(range(start,end))\n",
        "            start=end\n",
        "        final_toxic_tokens.append(toxic_tokens_spans)\n",
        "    return final_toxic_tokens"
      ],
      "metadata": {
        "id": "LypRU2v6l2nN"
      },
      "execution_count": null,
      "outputs": []
    },
    {
      "cell_type": "code",
      "source": [
        "valid_toxic_tokens = toxic_tokens(valid_tokens, valid_new_preds, valid_text)"
      ],
      "metadata": {
        "id": "iBq363desvV9"
      },
      "execution_count": null,
      "outputs": []
    },
    {
      "cell_type": "code",
      "source": [
        "def f1_score(ground_truth, prediction):\n",
        "    \n",
        "    #Calculates F1 score for a set of spans\n",
        "    true_positives = 0\n",
        "    if len(ground_truth) == 0 and len(prediction) == 0:\n",
        "        return 1.0\n",
        "    elif len(ground_truth) == 0 and len(prediction) != 0:\n",
        "        return 0.0\n",
        "    elif len(ground_truth) != 0 and len(prediction) == 0:\n",
        "        return 0.0\n",
        "    else:\n",
        "        true_positives_set = set(ground_truth).intersection(set(prediction))\n",
        "        true_positives_len = len(true_positives_set)\n",
        "\n",
        "        pred_cardinal = len(prediction)\n",
        "        grou_cardinal = len(ground_truth)\n",
        "        precision = true_positives_len / pred_cardinal\n",
        "        recall = true_positives_len / grou_cardinal\n",
        "        if precision + recall == 0:\n",
        "            return 0.0\n",
        "        else:\n",
        "            f1_score = 2 * precision * recall / (precision + recall)\n",
        "            return f1_score"
      ],
      "metadata": {
        "id": "51_aYt7jyT95"
      },
      "execution_count": null,
      "outputs": []
    },
    {
      "cell_type": "code",
      "source": [
        "f1_score_valid = []\n",
        "for i in range(len(valid_toxic_tokens)):\n",
        "    f1_score_valid.append(f1_score(valid_spans[i], valid_toxic_tokens[i]))\n",
        "print(np.mean(f1_score_valid))"
      ],
      "metadata": {
        "colab": {
          "base_uri": "https://localhost:8080/"
        },
        "id": "cVu5B5QZOFvS",
        "outputId": "f6842239-10ef-41fb-9d48-df638a3a8487"
      },
      "execution_count": null,
      "outputs": [
        {
          "output_type": "stream",
          "name": "stdout",
          "text": [
            "0.5929392703873725\n"
          ]
        }
      ]
    },
    {
      "cell_type": "code",
      "source": [],
      "metadata": {
        "id": "i8wYnTvETU0L"
      },
      "execution_count": null,
      "outputs": []
    }
  ]
}